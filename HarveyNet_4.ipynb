{
 "cells": [
  {
   "cell_type": "code",
   "execution_count": null,
   "metadata": {
    "id": "02YU7Jqd2iOy"
   },
   "outputs": [],
   "source": [
    "# Imports\n",
    "import pandas as pd\n",
    "import matplotlib.pyplot as plt\n",
    "import glob\n",
    "import tensorflow as tf\n",
    "from tensorflow.keras.preprocessing.image import ImageDataGenerator\n",
    "from tensorflow.keras.utils import plot_model\n",
    "import warnings\n",
    "warnings.filterwarnings(\"ignore\")"
   ]
  },
  {
   "cell_type": "code",
   "execution_count": null,
   "metadata": {
    "colab": {
     "base_uri": "https://localhost:8080/",
     "height": 1000
    },
    "id": "oiRN0OGmDcC7",
    "outputId": "993ce6b7-e3c8-4246-eec1-1093f3d131b9"
   },
   "outputs": [],
   "source": [
    "train_df = pd.DataFrame(columns=[\"image\", \"damage\"])\n",
    "train_df.image = [file for file in glob.glob('./Processed_Images/train/damage/*.jpeg')] + [file for file in glob.glob('./Processed_Images/train/no_damage/*.jpeg')]\n",
    "train_df.damage = [\"1\"]*5000 + [\"0\"]*5000\n",
    "train_df.reset_index(inplace=True, drop=True)\n",
    "\n",
    "test_df = pd.DataFrame(columns=[\"image\", \"damage\"])\n",
    "test_df.image = [file for file in glob.glob('./Processed_Images/test/damage/*.jpeg')] + [file for file in glob.glob('./Processed_Images/test/no_damage/*.jpeg')]\n",
    "test_df.damage = [\"1\"]*1000 + [\"0\"]*1000\n",
    "test_df.reset_index(inplace=True, drop=True)\n",
    "\n",
    "val_df = pd.DataFrame(columns=[\"image\", \"damage\"])\n",
    "val_df.image = [file for file in glob.glob('./Processed_Images/val/damage/*.jpeg')] + [file for file in glob.glob('./Processed_Images/val/no_damage/*.jpeg')]\n",
    "val_df.damage = [\"1\"]*1000 + [\"0\"]*1000\n",
    "val_df.reset_index(inplace=True, drop=True)"
   ]
  },
  {
   "cell_type": "code",
   "execution_count": null,
   "metadata": {
    "colab": {
     "base_uri": "https://localhost:8080/"
    },
    "id": "TYbY8Oypc5gK",
    "outputId": "01f3de47-cf05-40e2-fb6d-aaf8fbca04ef"
   },
   "outputs": [],
   "source": [
    "train_data_gen = ImageDataGenerator(horizontal_flip=True)\n",
    "train_data = train_data_gen.flow_from_dataframe(\n",
    "    dataframe = train_df,\n",
    "    x_col = \"image\",\n",
    "    y_col = \"damage\",\n",
    "    target_size = (128, 128),\n",
    "    color_mode = \"grayscale\",\n",
    "    class_mode = \"binary\",\n",
    "    shuffle = True,\n",
    "    subset = \"training\",\n",
    "    batch_size = 100\n",
    ")\n",
    "\n",
    "test_data_gen = ImageDataGenerator(horizontal_flip=True)\n",
    "test_data = test_data_gen.flow_from_dataframe(\n",
    "    dataframe = test_df,\n",
    "    x_col = \"image\",\n",
    "    y_col = \"damage\",\n",
    "    target_size = (128, 128),\n",
    "    color_mode = \"grayscale\",\n",
    "    class_mode = \"binary\",\n",
    "    shuffle = True,\n",
    "    batch_size = 100\n",
    ")\n",
    "\n",
    "val_data_gen = ImageDataGenerator(horizontal_flip=True)\n",
    "val_data = val_data_gen.flow_from_dataframe(\n",
    "    dataframe = val_df,\n",
    "    x_col = \"image\",\n",
    "    y_col = \"damage\",\n",
    "    target_size = (128, 128),\n",
    "    color_mode = \"grayscale\",\n",
    "    class_mode = \"binary\",\n",
    "    shuffle = True,\n",
    "    batch_size = 100\n",
    ")"
   ]
  },
  {
   "cell_type": "code",
   "execution_count": null,
   "metadata": {
    "colab": {
     "base_uri": "https://localhost:8080/"
    },
    "id": "8MMVkz0jE-pN",
    "outputId": "b8fe4324-5f1d-45dc-d699-2b40bc7de643"
   },
   "outputs": [],
   "source": [
    "model = tf.keras.models.Sequential([\n",
    "    tf.keras.layers.Conv2D(filters=128, kernel_size=(5, 5), activation='relu', input_shape=(128, 128, 1)),\n",
    "    tf.keras.layers.BatchNormalization(),\n",
    "    tf.keras.layers.Conv2D(filters=128, kernel_size=(5, 5), activation='relu'),\n",
    "    tf.keras.layers.BatchNormalization(),\n",
    "    tf.keras.layers.MaxPool2D(pool_size=(2, 2), strides=(2, 2)),\n",
    "    tf.keras.layers.Dropout(0.2),\n",
    "    \n",
    "    tf.keras.layers.Conv2D(filters=128, kernel_size=(3, 3), activation='relu'),\n",
    "    tf.keras.layers.BatchNormalization(),\n",
    "    tf.keras.layers.Conv2D(filters=128, kernel_size=(3, 3), activation='relu'),\n",
    "    tf.keras.layers.BatchNormalization(),\n",
    "    tf.keras.layers.MaxPool2D(pool_size=(2, 2), strides=(2, 2)),\n",
    "    tf.keras.layers.Dropout(0.2),\n",
    "    \n",
    "    tf.keras.layers.Flatten(),\n",
    "    tf.keras.layers.Dense(1024, activation='relu'),\n",
    "    tf.keras.layers.Dropout(0.4),\n",
    "    tf.keras.layers.Dense(1024, activation='relu'),\n",
    "    tf.keras.layers.Dropout(0.4),\n",
    "    tf.keras.layers.Dense(1, activation='sigmoid')\n",
    "])\n",
    "\n",
    "model.compile(optimizer = tf.optimizers.SGD(learning_rate=0.0005, momentum=0.8),\n",
    "              loss = 'binary_crossentropy',\n",
    "              metrics=['accuracy'])\n",
    "\n",
    "model.summary()"
   ]
  },
  {
   "cell_type": "code",
   "execution_count": null,
   "metadata": {
    "colab": {
     "base_uri": "https://localhost:8080/"
    },
    "id": "flasC7JVFatr",
    "outputId": "02e3c945-f875-450b-807c-738de93fd143"
   },
   "outputs": [],
   "source": [
    "history = model.fit(train_data, epochs=30, validation_data=val_data)"
   ]
  },
  {
   "cell_type": "code",
   "execution_count": null,
   "metadata": {
    "colab": {
     "base_uri": "https://localhost:8080/",
     "height": 472
    },
    "id": "TkPNFlksUlVl",
    "outputId": "fd66edac-4a3d-4b77-8a1f-4a0334670a46"
   },
   "outputs": [],
   "source": [
    "plt.plot(history.history['accuracy'])\n",
    "plt.plot(history.history['val_accuracy'])\n",
    "plt.title('Model accuracy')\n",
    "plt.ylabel('Accuracy')\n",
    "plt.xlabel('Epoch')\n",
    "plt.legend(['Training', 'Validation'], loc='upper right', bbox_to_anchor=(1.3, 1))\n",
    "plt.show()"
   ]
  },
  {
   "cell_type": "code",
   "execution_count": null,
   "metadata": {
    "colab": {
     "base_uri": "https://localhost:8080/",
     "height": 472
    },
    "id": "iW7usaQ9UmmC",
    "outputId": "7c5eeb2b-5677-4ef8-a2f1-fad61ac58907"
   },
   "outputs": [],
   "source": [
    "plt.plot(history.history['loss'])\n",
    "plt.plot(history.history['val_loss'])\n",
    "plt.title('Model loss')\n",
    "plt.ylabel('Loss')\n",
    "plt.xlabel('Epoch')\n",
    "plt.legend(['Training', 'Validation'], loc='upper right', bbox_to_anchor=(1.3, 1))\n",
    "plt.show()"
   ]
  },
  {
   "cell_type": "code",
   "execution_count": null,
   "metadata": {
    "colab": {
     "base_uri": "https://localhost:8080/"
    },
    "id": "h-NhYVQXaEGm",
    "outputId": "dc4fb846-55aa-426e-da10-63936444a9dd"
   },
   "outputs": [],
   "source": [
    "model.evaluate(test_data)"
   ]
  }
 ],
 "metadata": {
  "accelerator": "GPU",
  "colab": {
   "provenance": []
  },
  "gpuClass": "standard",
  "kernelspec": {
   "display_name": "Python 3",
   "language": "python",
   "name": "python3"
  },
  "language_info": {
   "codemirror_mode": {
    "name": "ipython",
    "version": 3
   },
   "file_extension": ".py",
   "mimetype": "text/x-python",
   "name": "python",
   "nbconvert_exporter": "python",
   "pygments_lexer": "ipython3",
   "version": "3.8.8"
  }
 },
 "nbformat": 4,
 "nbformat_minor": 1
}
